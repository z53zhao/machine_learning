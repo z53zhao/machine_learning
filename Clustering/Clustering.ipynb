{
 "cells": [
  {
   "cell_type": "markdown",
   "metadata": {
    "toc": true
   },
   "source": [
    "<h1>Table of Contents<span class=\"tocSkip\"></span></h1>\n",
    "<a href=\"#Module-4:-Clustering\" data-toc-modified-id=\"Assignment-for-Module-4:-Clustering-1\"><span class=\"toc-item-num\">1&nbsp;&nbsp;</span>Assignment for Module 4: Clustering</a></span><ul class=\"toc-item\"><li><span><a href=\"#Description\" data-toc-modified-id=\"Description-1.1\"><span class=\"toc-item-num\">1.1&nbsp;&nbsp;</span>Description</a></span><ul class=\"toc-item\"><li><ul class=\"toc-item\"><li><span><a href=\"#1.-Data:\" data-toc-modified-id=\"1.-Data:-1.1.0.1\"><span class=\"toc-item-num\">1.1.0.1&nbsp;&nbsp;</span>1. Data:</a></span></li><li><span><a href=\"#2.-Electric-Demand:\" data-toc-modified-id=\"2.-Electric-Demand:-1.1.0.2\"><span class=\"toc-item-num\">1.1.0.2&nbsp;&nbsp;</span>2. Electric Demand:</a></span></li></ul></li></ul></li><li><span><a href=\"#Data-Preparation\" data-toc-modified-id=\"Data-Preparation-1.2\"><span class=\"toc-item-num\">1.2&nbsp;&nbsp;</span>Data Preparation</a></span><ul class=\"toc-item\"><li><span><a href=\"#Quick-data-inspection\" data-toc-modified-id=\"Quick-data-inspection-1.2.1\"><span class=\"toc-item-num\">1.2.1&nbsp;&nbsp;</span>Quick data inspection</a></span><ul class=\"toc-item\"><li><span><a href=\"#As-can-be-seen,-the-dataframe-contains-a-row-for-each-interval-of-15-minutes-between-Jan-1,-2011-to-Dec-31-2014.-There-are-370-columns-corresponding-370-clients.-The-dataframe-is-indexed-by-the-timestamp.\" data-toc-modified-id=\"As-can-be-seen,-the-dataframe-contains-a-row-for-each-interval-of-15-minutes-between-Jan-1,-2011-to-Dec-31-2014.-There-are-370-columns-corresponding-370-clients.-The-dataframe-is-indexed-by-the-timestamp.-1.2.1.1\"><span class=\"toc-item-num\">1.2.1.1&nbsp;&nbsp;</span>As can be seen, the dataframe contains a row for each interval of 15 minutes between Jan 1, 2011 to Dec 31 2014. There are 370 columns corresponding 370 clients. The dataframe is indexed by the timestamp.</a></span></li></ul></li><li><span><a href=\"#Plot-the-2-days-of-2012-for-the-first-2-clients\" data-toc-modified-id=\"Plot-the-2-days-of-2012-for-the-first-2-clients-1.2.2\"><span class=\"toc-item-num\">1.2.2&nbsp;&nbsp;</span>Plot the 2 days of 2012 for the first 2 clients</a></span><ul class=\"toc-item\"><li><span><a href=\"#We-quickly-note-that-the-main-difference-between-the-curves-is-the-level-(also-seen-on-the-means-in-df.describe()),-so-we-know-we-will-have-to-somehow-normalize-the-curves,-in-order-for-the-clustering-technique-to-capture-the-behaviour-of-the-consumption-throughout-the-day,-rather-than-the-overall-level.\" data-toc-modified-id=\"We-quickly-note-that-the-main-difference-between-the-curves-is-the-level-(also-seen-on-the-means-in-df.describe()),-so-we-know-we-will-have-to-somehow-normalize-the-curves,-in-order-for-the-clustering-technique-to-capture-the-behaviour-of-the-consumption-throughout-the-day,-rather-than-the-overall-level.-1.2.2.1\"><span class=\"toc-item-num\">1.2.2.1&nbsp;&nbsp;</span>We quickly note that the main difference between the curves is the level (also seen on the means in df.describe()), so we know we will have to somehow normalize the curves, in order for the clustering technique to capture the behaviour of the consumption throughout the day, rather than the overall level.</a></span></li></ul></li><li><span><a href=\"#Data-for-the-analysis\" data-toc-modified-id=\"Data-for-the-analysis-1.2.3\"><span class=\"toc-item-num\">1.2.3&nbsp;&nbsp;</span>Data for the analysis</a></span></li></ul></li><li><span><a href=\"#Getting-average-curves-per-client\" data-toc-modified-id=\"Getting-average-curves-per-client-1.3\"><span class=\"toc-item-num\">1.3&nbsp;&nbsp;</span>Getting average curves per client</a></span><ul class=\"toc-item\"><li><span><a href=\"#Getting-average-curves-per-client\" data-toc-modified-id=\"Getting-average-curves-per-client-1.3.1\"><span class=\"toc-item-num\">1.3.1&nbsp;&nbsp;</span>Getting average curves per client</a></span><ul class=\"toc-item\"><li><span><a href=\"#The-dataframe-average_curves-contains-the-349-typical-weekday-electric-demands\" data-toc-modified-id=\"The-dataframe-average_curves-contains-the-349-typical-weekday-electric-demands-1.3.1.1\"><span class=\"toc-item-num\">1.3.1.1&nbsp;&nbsp;</span>The dataframe average_curves contains the 349 typical weekday electric demands</a></span></li><li><span><a href=\"#We-now-divide-each-curve-by-its-mean,-so-that-all-curves-have-mean-1\" data-toc-modified-id=\"We-now-divide-each-curve-by-its-mean,-so-that-all-curves-have-mean-1-1.3.1.2\"><span class=\"toc-item-num\">1.3.1.2&nbsp;&nbsp;</span>We now divide each curve by its mean, so that all curves have mean 1</a></span></li><li><span><a href=\"#Plot-the-first-2-and-last-2-clients\" data-toc-modified-id=\"Plot-the-first-2-and-last-2-clients-1.3.1.3\"><span class=\"toc-item-num\">1.3.1.3&nbsp;&nbsp;</span>Plot the first 2 and last 2 clients</a></span></li></ul></li></ul></li><li><span><a href=\"#Clustering-Analysis-on-the-average-normizalied-curves\" data-toc-modified-id=\"Clustering-Analysis-on-the-average-normizalied-curves-1.4\"><span class=\"toc-item-num\">1.4&nbsp;&nbsp;</span>Clustering Analysis on the average normizalied curves</a></span></li><li><span><a href=\"#Exercise-1:\" data-toc-modified-id=\"Exercise-1:-1.5\"><span class=\"toc-item-num\">1.5&nbsp;&nbsp;</span>Exercise 1:</a></span></li><li><span><a href=\"#Exercises-2\" data-toc-modified-id=\"Exercises-2-1.6\"><span class=\"toc-item-num\">1.6&nbsp;&nbsp;</span>Exercises 2</a></span><ul class=\"toc-item\"><li><ul class=\"toc-item\"><li><span><a href=\"#The-following-cell-generates-a-list-of-all-the-days-in-the-two-years-2013-2014,-which-is-helpful-to-answer-part-(b)\" data-toc-modified-id=\"The-following-cell-generates-a-list-of-all-the-days-in-the-two-years-2013-2014,-which-is-helpful-to-answer-part-(b)-1.6.0.1\"><span class=\"toc-item-num\">1.6.0.1&nbsp;&nbsp;</span>The following cell generates a list of all the days in the two years 2013-2014, which is helpful to answer part (b)</a></span></li><li><span><a href=\"#The-following-cell-shows-you-how-to-do-the-following:-given-a-list-L,-and-a-list-of-booleans-B-(True,-False),-get-the-sublist-of-L-that-corresponds-to-the-True-values-in-B.-For-example-if-L=[1,2,3,4]-and-B=[False,True,True,False],-then-the-results-is-[2,3].-This-is-also-helpful-for-pard-(b)\" data-toc-modified-id=\"The-following-cell-shows-you-how-to-do-the-following:-given-a-list-L,-and-a-list-of-booleans-B-(True,-False),-get-the-sublist-of-L-that-corresponds-to-the-True-values-in-B.-For-example-if-L=[1,2,3,4]-and-B=[False,True,True,False],-then-the-results-is-[2,3].-This-is-also-helpful-for-pard-(b)-1.6.0.2\"><span class=\"toc-item-num\">1.6.0.2&nbsp;&nbsp;</span>The following cell shows you how to do the following: given a list L, and a list of booleans B (True, False), get the sublist of L that corresponds to the True values in B. For example if L=[1,2,3,4] and B=[False,True,True,False], then the results is [2,3]. This is also helpful for pard (b)</a></span></li></ul></li></ul></li></ul></li></ul></div>"
   ]
  },
  {
   "cell_type": "markdown",
   "metadata": {},
   "source": [
    "### Your name:\n",
    "\n",
    "<pre> Zihan Zhao</pre>\n",
    "\n",
    "\n"
   ]
  },
  {
   "cell_type": "markdown",
   "metadata": {},
   "source": [
    "# Module 4: Clustering\n",
    "\n",
    "## Description\n",
    "\n",
    "In this assignment you will study the electric demand (power) of clients in Portugal, during 2013 and 2014.\n",
    "\n",
    "The data$^1$ available contains 370 time series, corresponding to the electric demand$^2$ for 370 clients, between 2011 and 2014. \n",
    "\n",
    "In this guided exercise you will use clustering techniques to understand the typical behaviour during 2013-2014.\n",
    "\n",
    "#### 1. Data:\n",
    "https://archive.ics.uci.edu/ml/datasets/ElectricityLoadDiagrams20112014#\n",
    "\n",
    "#### 2. Electric Demand:\n",
    "http://www.think-energy.net/KWvsKWH.htm\n"
   ]
  },
  {
   "cell_type": "markdown",
   "metadata": {},
   "source": [
    "## Data Preparation\n",
    "\n",
    "Start by downloading the data to a local directory and modify the \"pathToFile\" and \"fileName\" variables, if needed"
   ]
  },
  {
   "cell_type": "code",
   "execution_count": 1,
   "metadata": {},
   "outputs": [],
   "source": [
    "pathToFile = r\"./\"\n",
    "fileName = 'LD2011_2014.txt'"
   ]
  },
  {
   "cell_type": "code",
   "execution_count": 2,
   "metadata": {},
   "outputs": [],
   "source": [
    "import numpy as np\n",
    "from sklearn.cluster import KMeans\n",
    "import matplotlib.pyplot as plt\n",
    "import random\n",
    "from sklearn.metrics import silhouette_score\n",
    "from sklearn.cluster import AgglomerativeClustering\n",
    "random.seed(42)"
   ]
  },
  {
   "cell_type": "code",
   "execution_count": 3,
   "metadata": {},
   "outputs": [],
   "source": [
    "# Replace \",\" by \".\", otherwise the numbers will be in the form 2,3445 instead of 2.3445\n",
    "import fileinput\n",
    "\n",
    "# with fileinput.FileInput(pathToFile+fileName, inplace=True, backup='.bak') as f:\n",
    "#     print(\"here\")\n",
    "for line in fileinput.FileInput(pathToFile+fileName, inplace=True, backup='.bak'):\n",
    "    print(line.replace(\",\", \".\"))"
   ]
  },
  {
   "cell_type": "code",
   "execution_count": 4,
   "metadata": {},
   "outputs": [],
   "source": [
    "# Create dataframe\n",
    "import pandas as pd\n",
    "data = pd.read_csv(pathToFile+fileName, sep=\";\", index_col=0)"
   ]
  },
  {
   "cell_type": "markdown",
   "metadata": {},
   "source": [
    "### Quick data inspection"
   ]
  },
  {
   "cell_type": "code",
   "execution_count": 5,
   "metadata": {},
   "outputs": [
    {
     "data": {
      "text/html": [
       "<div>\n",
       "<style scoped>\n",
       "    .dataframe tbody tr th:only-of-type {\n",
       "        vertical-align: middle;\n",
       "    }\n",
       "\n",
       "    .dataframe tbody tr th {\n",
       "        vertical-align: top;\n",
       "    }\n",
       "\n",
       "    .dataframe thead th {\n",
       "        text-align: right;\n",
       "    }\n",
       "</style>\n",
       "<table border=\"1\" class=\"dataframe\">\n",
       "  <thead>\n",
       "    <tr style=\"text-align: right;\">\n",
       "      <th></th>\n",
       "      <th>MT_001</th>\n",
       "      <th>MT_002</th>\n",
       "      <th>MT_003</th>\n",
       "      <th>MT_004</th>\n",
       "      <th>MT_005</th>\n",
       "      <th>MT_006</th>\n",
       "      <th>MT_007</th>\n",
       "      <th>MT_008</th>\n",
       "      <th>MT_009</th>\n",
       "      <th>MT_010</th>\n",
       "      <th>...</th>\n",
       "      <th>MT_361</th>\n",
       "      <th>MT_362</th>\n",
       "      <th>MT_363</th>\n",
       "      <th>MT_364</th>\n",
       "      <th>MT_365</th>\n",
       "      <th>MT_366</th>\n",
       "      <th>MT_367</th>\n",
       "      <th>MT_368</th>\n",
       "      <th>MT_369</th>\n",
       "      <th>MT_370</th>\n",
       "    </tr>\n",
       "  </thead>\n",
       "  <tbody>\n",
       "    <tr>\n",
       "      <th>2011-01-01 00:15:00</th>\n",
       "      <td>0.0</td>\n",
       "      <td>0.0</td>\n",
       "      <td>0.0</td>\n",
       "      <td>0.0</td>\n",
       "      <td>0.0</td>\n",
       "      <td>0.0</td>\n",
       "      <td>0.0</td>\n",
       "      <td>0.0</td>\n",
       "      <td>0.0</td>\n",
       "      <td>0.0</td>\n",
       "      <td>...</td>\n",
       "      <td>0.0</td>\n",
       "      <td>0.0</td>\n",
       "      <td>0.0</td>\n",
       "      <td>0.0</td>\n",
       "      <td>0.0</td>\n",
       "      <td>0.0</td>\n",
       "      <td>0.0</td>\n",
       "      <td>0.0</td>\n",
       "      <td>0.0</td>\n",
       "      <td>0.0</td>\n",
       "    </tr>\n",
       "    <tr>\n",
       "      <th>2011-01-01 00:30:00</th>\n",
       "      <td>0.0</td>\n",
       "      <td>0.0</td>\n",
       "      <td>0.0</td>\n",
       "      <td>0.0</td>\n",
       "      <td>0.0</td>\n",
       "      <td>0.0</td>\n",
       "      <td>0.0</td>\n",
       "      <td>0.0</td>\n",
       "      <td>0.0</td>\n",
       "      <td>0.0</td>\n",
       "      <td>...</td>\n",
       "      <td>0.0</td>\n",
       "      <td>0.0</td>\n",
       "      <td>0.0</td>\n",
       "      <td>0.0</td>\n",
       "      <td>0.0</td>\n",
       "      <td>0.0</td>\n",
       "      <td>0.0</td>\n",
       "      <td>0.0</td>\n",
       "      <td>0.0</td>\n",
       "      <td>0.0</td>\n",
       "    </tr>\n",
       "  </tbody>\n",
       "</table>\n",
       "<p>2 rows × 370 columns</p>\n",
       "</div>"
      ],
      "text/plain": [
       "                     MT_001  MT_002  MT_003  MT_004  MT_005  MT_006  MT_007  \\\n",
       "2011-01-01 00:15:00     0.0     0.0     0.0     0.0     0.0     0.0     0.0   \n",
       "2011-01-01 00:30:00     0.0     0.0     0.0     0.0     0.0     0.0     0.0   \n",
       "\n",
       "                     MT_008  MT_009  MT_010   ...    MT_361  MT_362  MT_363  \\\n",
       "2011-01-01 00:15:00     0.0     0.0     0.0   ...       0.0     0.0     0.0   \n",
       "2011-01-01 00:30:00     0.0     0.0     0.0   ...       0.0     0.0     0.0   \n",
       "\n",
       "                     MT_364  MT_365  MT_366  MT_367  MT_368  MT_369  MT_370  \n",
       "2011-01-01 00:15:00     0.0     0.0     0.0     0.0     0.0     0.0     0.0  \n",
       "2011-01-01 00:30:00     0.0     0.0     0.0     0.0     0.0     0.0     0.0  \n",
       "\n",
       "[2 rows x 370 columns]"
      ]
     },
     "execution_count": 5,
     "metadata": {},
     "output_type": "execute_result"
    }
   ],
   "source": [
    "data.head(2)"
   ]
  },
  {
   "cell_type": "code",
   "execution_count": 6,
   "metadata": {},
   "outputs": [
    {
     "data": {
      "text/html": [
       "<div>\n",
       "<style scoped>\n",
       "    .dataframe tbody tr th:only-of-type {\n",
       "        vertical-align: middle;\n",
       "    }\n",
       "\n",
       "    .dataframe tbody tr th {\n",
       "        vertical-align: top;\n",
       "    }\n",
       "\n",
       "    .dataframe thead th {\n",
       "        text-align: right;\n",
       "    }\n",
       "</style>\n",
       "<table border=\"1\" class=\"dataframe\">\n",
       "  <thead>\n",
       "    <tr style=\"text-align: right;\">\n",
       "      <th></th>\n",
       "      <th>MT_001</th>\n",
       "      <th>MT_002</th>\n",
       "      <th>MT_003</th>\n",
       "      <th>MT_004</th>\n",
       "      <th>MT_005</th>\n",
       "      <th>MT_006</th>\n",
       "      <th>MT_007</th>\n",
       "      <th>MT_008</th>\n",
       "      <th>MT_009</th>\n",
       "      <th>MT_010</th>\n",
       "      <th>...</th>\n",
       "      <th>MT_361</th>\n",
       "      <th>MT_362</th>\n",
       "      <th>MT_363</th>\n",
       "      <th>MT_364</th>\n",
       "      <th>MT_365</th>\n",
       "      <th>MT_366</th>\n",
       "      <th>MT_367</th>\n",
       "      <th>MT_368</th>\n",
       "      <th>MT_369</th>\n",
       "      <th>MT_370</th>\n",
       "    </tr>\n",
       "  </thead>\n",
       "  <tbody>\n",
       "    <tr>\n",
       "      <th>2014-12-31 23:45:00</th>\n",
       "      <td>1.269036</td>\n",
       "      <td>21.337127</td>\n",
       "      <td>1.737619</td>\n",
       "      <td>166.666667</td>\n",
       "      <td>85.365854</td>\n",
       "      <td>285.714286</td>\n",
       "      <td>10.17524</td>\n",
       "      <td>225.589226</td>\n",
       "      <td>64.685315</td>\n",
       "      <td>72.043011</td>\n",
       "      <td>...</td>\n",
       "      <td>246.252677</td>\n",
       "      <td>28000.0</td>\n",
       "      <td>1443.037975</td>\n",
       "      <td>909.090909</td>\n",
       "      <td>26.075619</td>\n",
       "      <td>4.095963</td>\n",
       "      <td>664.618086</td>\n",
       "      <td>146.911519</td>\n",
       "      <td>646.627566</td>\n",
       "      <td>6540.540541</td>\n",
       "    </tr>\n",
       "    <tr>\n",
       "      <th>2015-01-01 00:00:00</th>\n",
       "      <td>2.538071</td>\n",
       "      <td>19.914651</td>\n",
       "      <td>1.737619</td>\n",
       "      <td>178.861789</td>\n",
       "      <td>84.146341</td>\n",
       "      <td>279.761905</td>\n",
       "      <td>10.17524</td>\n",
       "      <td>249.158249</td>\n",
       "      <td>62.937063</td>\n",
       "      <td>69.892473</td>\n",
       "      <td>...</td>\n",
       "      <td>188.436831</td>\n",
       "      <td>27800.0</td>\n",
       "      <td>1409.282700</td>\n",
       "      <td>954.545455</td>\n",
       "      <td>27.379400</td>\n",
       "      <td>4.095963</td>\n",
       "      <td>628.621598</td>\n",
       "      <td>131.886477</td>\n",
       "      <td>673.020528</td>\n",
       "      <td>7135.135135</td>\n",
       "    </tr>\n",
       "  </tbody>\n",
       "</table>\n",
       "<p>2 rows × 370 columns</p>\n",
       "</div>"
      ],
      "text/plain": [
       "                       MT_001     MT_002    MT_003      MT_004     MT_005  \\\n",
       "2014-12-31 23:45:00  1.269036  21.337127  1.737619  166.666667  85.365854   \n",
       "2015-01-01 00:00:00  2.538071  19.914651  1.737619  178.861789  84.146341   \n",
       "\n",
       "                         MT_006    MT_007      MT_008     MT_009     MT_010  \\\n",
       "2014-12-31 23:45:00  285.714286  10.17524  225.589226  64.685315  72.043011   \n",
       "2015-01-01 00:00:00  279.761905  10.17524  249.158249  62.937063  69.892473   \n",
       "\n",
       "                        ...           MT_361   MT_362       MT_363  \\\n",
       "2014-12-31 23:45:00     ...       246.252677  28000.0  1443.037975   \n",
       "2015-01-01 00:00:00     ...       188.436831  27800.0  1409.282700   \n",
       "\n",
       "                         MT_364     MT_365    MT_366      MT_367      MT_368  \\\n",
       "2014-12-31 23:45:00  909.090909  26.075619  4.095963  664.618086  146.911519   \n",
       "2015-01-01 00:00:00  954.545455  27.379400  4.095963  628.621598  131.886477   \n",
       "\n",
       "                         MT_369       MT_370  \n",
       "2014-12-31 23:45:00  646.627566  6540.540541  \n",
       "2015-01-01 00:00:00  673.020528  7135.135135  \n",
       "\n",
       "[2 rows x 370 columns]"
      ]
     },
     "execution_count": 6,
     "metadata": {},
     "output_type": "execute_result"
    }
   ],
   "source": [
    "data.tail(2)"
   ]
  },
  {
   "cell_type": "code",
   "execution_count": 7,
   "metadata": {},
   "outputs": [
    {
     "data": {
      "text/plain": [
       "(140256, 370)"
      ]
     },
     "execution_count": 7,
     "metadata": {},
     "output_type": "execute_result"
    }
   ],
   "source": [
    "data.shape"
   ]
  },
  {
   "cell_type": "markdown",
   "metadata": {},
   "source": [
    "#### As can be seen, the dataframe contains a row for each interval of 15 minutes between Jan 1, 2011 to Dec 31 2014. There are 370 columns corresponding 370 clients. The dataframe is indexed by the timestamp.\n",
    "\n",
    "Since the frequency is 15 minutes, each day provides $24\\times 4 = 96$ datapoints, which multiplied by 365 days and 4 years (plus 1 day in Feb 29, 2012) gives: $96 \\times 365 \\times 4 + 96 = 140256$, as observed in data.shape"
   ]
  },
  {
   "cell_type": "code",
   "execution_count": 8,
   "metadata": {},
   "outputs": [
    {
     "name": "stdout",
     "output_type": "stream",
     "text": [
      "<class 'pandas.core.frame.DataFrame'>\n",
      "Index: 140256 entries, 2011-01-01 00:15:00 to 2015-01-01 00:00:00\n",
      "Columns: 370 entries, MT_001 to MT_370\n",
      "dtypes: float64(370)\n",
      "memory usage: 397.0+ MB\n"
     ]
    }
   ],
   "source": [
    "data.info()"
   ]
  },
  {
   "cell_type": "code",
   "execution_count": 9,
   "metadata": {},
   "outputs": [
    {
     "data": {
      "text/html": [
       "<div>\n",
       "<style scoped>\n",
       "    .dataframe tbody tr th:only-of-type {\n",
       "        vertical-align: middle;\n",
       "    }\n",
       "\n",
       "    .dataframe tbody tr th {\n",
       "        vertical-align: top;\n",
       "    }\n",
       "\n",
       "    .dataframe thead th {\n",
       "        text-align: right;\n",
       "    }\n",
       "</style>\n",
       "<table border=\"1\" class=\"dataframe\">\n",
       "  <thead>\n",
       "    <tr style=\"text-align: right;\">\n",
       "      <th></th>\n",
       "      <th>MT_001</th>\n",
       "      <th>MT_002</th>\n",
       "      <th>MT_003</th>\n",
       "      <th>MT_004</th>\n",
       "      <th>MT_005</th>\n",
       "      <th>MT_006</th>\n",
       "      <th>MT_007</th>\n",
       "      <th>MT_008</th>\n",
       "      <th>MT_009</th>\n",
       "      <th>MT_010</th>\n",
       "      <th>...</th>\n",
       "      <th>MT_361</th>\n",
       "      <th>MT_362</th>\n",
       "      <th>MT_363</th>\n",
       "      <th>MT_364</th>\n",
       "      <th>MT_365</th>\n",
       "      <th>MT_366</th>\n",
       "      <th>MT_367</th>\n",
       "      <th>MT_368</th>\n",
       "      <th>MT_369</th>\n",
       "      <th>MT_370</th>\n",
       "    </tr>\n",
       "  </thead>\n",
       "  <tbody>\n",
       "    <tr>\n",
       "      <th>count</th>\n",
       "      <td>140256.000000</td>\n",
       "      <td>140256.000000</td>\n",
       "      <td>140256.000000</td>\n",
       "      <td>140256.000000</td>\n",
       "      <td>140256.000000</td>\n",
       "      <td>140256.000000</td>\n",
       "      <td>140256.000000</td>\n",
       "      <td>140256.000000</td>\n",
       "      <td>140256.000000</td>\n",
       "      <td>140256.000000</td>\n",
       "      <td>...</td>\n",
       "      <td>140256.000000</td>\n",
       "      <td>140256.000000</td>\n",
       "      <td>140256.000000</td>\n",
       "      <td>140256.000000</td>\n",
       "      <td>140256.000000</td>\n",
       "      <td>140256.000000</td>\n",
       "      <td>140256.000000</td>\n",
       "      <td>140256.000000</td>\n",
       "      <td>140256.000000</td>\n",
       "      <td>140256.000000</td>\n",
       "    </tr>\n",
       "    <tr>\n",
       "      <th>mean</th>\n",
       "      <td>3.970785</td>\n",
       "      <td>20.768480</td>\n",
       "      <td>2.918308</td>\n",
       "      <td>82.184490</td>\n",
       "      <td>37.240309</td>\n",
       "      <td>141.227385</td>\n",
       "      <td>4.521338</td>\n",
       "      <td>191.401476</td>\n",
       "      <td>39.975354</td>\n",
       "      <td>42.205152</td>\n",
       "      <td>...</td>\n",
       "      <td>218.213701</td>\n",
       "      <td>37607.987537</td>\n",
       "      <td>1887.427366</td>\n",
       "      <td>2940.031734</td>\n",
       "      <td>65.413150</td>\n",
       "      <td>9.269709</td>\n",
       "      <td>424.262904</td>\n",
       "      <td>94.704717</td>\n",
       "      <td>625.251734</td>\n",
       "      <td>8722.355145</td>\n",
       "    </tr>\n",
       "    <tr>\n",
       "      <th>std</th>\n",
       "      <td>5.983965</td>\n",
       "      <td>13.272415</td>\n",
       "      <td>11.014456</td>\n",
       "      <td>58.248392</td>\n",
       "      <td>26.461327</td>\n",
       "      <td>98.439984</td>\n",
       "      <td>6.485684</td>\n",
       "      <td>121.981187</td>\n",
       "      <td>29.814595</td>\n",
       "      <td>33.401251</td>\n",
       "      <td>...</td>\n",
       "      <td>204.833532</td>\n",
       "      <td>38691.954832</td>\n",
       "      <td>1801.486488</td>\n",
       "      <td>2732.251967</td>\n",
       "      <td>65.007818</td>\n",
       "      <td>10.016782</td>\n",
       "      <td>274.337122</td>\n",
       "      <td>80.297301</td>\n",
       "      <td>380.656042</td>\n",
       "      <td>9195.155777</td>\n",
       "    </tr>\n",
       "    <tr>\n",
       "      <th>min</th>\n",
       "      <td>0.000000</td>\n",
       "      <td>0.000000</td>\n",
       "      <td>0.000000</td>\n",
       "      <td>0.000000</td>\n",
       "      <td>0.000000</td>\n",
       "      <td>0.000000</td>\n",
       "      <td>0.000000</td>\n",
       "      <td>0.000000</td>\n",
       "      <td>0.000000</td>\n",
       "      <td>0.000000</td>\n",
       "      <td>...</td>\n",
       "      <td>0.000000</td>\n",
       "      <td>0.000000</td>\n",
       "      <td>0.000000</td>\n",
       "      <td>0.000000</td>\n",
       "      <td>0.000000</td>\n",
       "      <td>0.000000</td>\n",
       "      <td>0.000000</td>\n",
       "      <td>0.000000</td>\n",
       "      <td>0.000000</td>\n",
       "      <td>0.000000</td>\n",
       "    </tr>\n",
       "    <tr>\n",
       "      <th>25%</th>\n",
       "      <td>0.000000</td>\n",
       "      <td>2.844950</td>\n",
       "      <td>0.000000</td>\n",
       "      <td>36.585366</td>\n",
       "      <td>15.853659</td>\n",
       "      <td>71.428571</td>\n",
       "      <td>0.565291</td>\n",
       "      <td>111.111111</td>\n",
       "      <td>13.986014</td>\n",
       "      <td>9.677419</td>\n",
       "      <td>...</td>\n",
       "      <td>5.710207</td>\n",
       "      <td>0.000000</td>\n",
       "      <td>0.000000</td>\n",
       "      <td>0.000000</td>\n",
       "      <td>13.037810</td>\n",
       "      <td>0.000000</td>\n",
       "      <td>0.000000</td>\n",
       "      <td>30.050083</td>\n",
       "      <td>83.944282</td>\n",
       "      <td>0.000000</td>\n",
       "    </tr>\n",
       "    <tr>\n",
       "      <th>50%</th>\n",
       "      <td>1.269036</td>\n",
       "      <td>24.893314</td>\n",
       "      <td>1.737619</td>\n",
       "      <td>87.398374</td>\n",
       "      <td>39.024390</td>\n",
       "      <td>157.738095</td>\n",
       "      <td>2.826456</td>\n",
       "      <td>222.222222</td>\n",
       "      <td>40.209790</td>\n",
       "      <td>40.860215</td>\n",
       "      <td>...</td>\n",
       "      <td>131.334761</td>\n",
       "      <td>24100.000000</td>\n",
       "      <td>1050.632911</td>\n",
       "      <td>2136.363636</td>\n",
       "      <td>31.290743</td>\n",
       "      <td>7.021650</td>\n",
       "      <td>525.899912</td>\n",
       "      <td>76.794658</td>\n",
       "      <td>758.064516</td>\n",
       "      <td>0.000000</td>\n",
       "    </tr>\n",
       "    <tr>\n",
       "      <th>75%</th>\n",
       "      <td>2.538071</td>\n",
       "      <td>29.871977</td>\n",
       "      <td>1.737619</td>\n",
       "      <td>115.853659</td>\n",
       "      <td>54.878049</td>\n",
       "      <td>205.357143</td>\n",
       "      <td>4.522329</td>\n",
       "      <td>279.461279</td>\n",
       "      <td>57.692308</td>\n",
       "      <td>61.290323</td>\n",
       "      <td>...</td>\n",
       "      <td>403.283369</td>\n",
       "      <td>54800.000000</td>\n",
       "      <td>3312.236287</td>\n",
       "      <td>5363.636364</td>\n",
       "      <td>108.213820</td>\n",
       "      <td>11.702750</td>\n",
       "      <td>627.743635</td>\n",
       "      <td>151.919866</td>\n",
       "      <td>875.366569</td>\n",
       "      <td>17783.783784</td>\n",
       "    </tr>\n",
       "    <tr>\n",
       "      <th>max</th>\n",
       "      <td>48.223350</td>\n",
       "      <td>115.220484</td>\n",
       "      <td>151.172893</td>\n",
       "      <td>321.138211</td>\n",
       "      <td>150.000000</td>\n",
       "      <td>535.714286</td>\n",
       "      <td>44.657999</td>\n",
       "      <td>552.188552</td>\n",
       "      <td>157.342657</td>\n",
       "      <td>198.924731</td>\n",
       "      <td>...</td>\n",
       "      <td>852.962170</td>\n",
       "      <td>192800.000000</td>\n",
       "      <td>7751.054852</td>\n",
       "      <td>12386.363636</td>\n",
       "      <td>335.071708</td>\n",
       "      <td>60.269163</td>\n",
       "      <td>1138.718174</td>\n",
       "      <td>362.270451</td>\n",
       "      <td>1549.120235</td>\n",
       "      <td>30918.918919</td>\n",
       "    </tr>\n",
       "  </tbody>\n",
       "</table>\n",
       "<p>8 rows × 370 columns</p>\n",
       "</div>"
      ],
      "text/plain": [
       "              MT_001         MT_002         MT_003         MT_004  \\\n",
       "count  140256.000000  140256.000000  140256.000000  140256.000000   \n",
       "mean        3.970785      20.768480       2.918308      82.184490   \n",
       "std         5.983965      13.272415      11.014456      58.248392   \n",
       "min         0.000000       0.000000       0.000000       0.000000   \n",
       "25%         0.000000       2.844950       0.000000      36.585366   \n",
       "50%         1.269036      24.893314       1.737619      87.398374   \n",
       "75%         2.538071      29.871977       1.737619     115.853659   \n",
       "max        48.223350     115.220484     151.172893     321.138211   \n",
       "\n",
       "              MT_005         MT_006         MT_007         MT_008  \\\n",
       "count  140256.000000  140256.000000  140256.000000  140256.000000   \n",
       "mean       37.240309     141.227385       4.521338     191.401476   \n",
       "std        26.461327      98.439984       6.485684     121.981187   \n",
       "min         0.000000       0.000000       0.000000       0.000000   \n",
       "25%        15.853659      71.428571       0.565291     111.111111   \n",
       "50%        39.024390     157.738095       2.826456     222.222222   \n",
       "75%        54.878049     205.357143       4.522329     279.461279   \n",
       "max       150.000000     535.714286      44.657999     552.188552   \n",
       "\n",
       "              MT_009         MT_010      ...               MT_361  \\\n",
       "count  140256.000000  140256.000000      ...        140256.000000   \n",
       "mean       39.975354      42.205152      ...           218.213701   \n",
       "std        29.814595      33.401251      ...           204.833532   \n",
       "min         0.000000       0.000000      ...             0.000000   \n",
       "25%        13.986014       9.677419      ...             5.710207   \n",
       "50%        40.209790      40.860215      ...           131.334761   \n",
       "75%        57.692308      61.290323      ...           403.283369   \n",
       "max       157.342657     198.924731      ...           852.962170   \n",
       "\n",
       "              MT_362         MT_363         MT_364         MT_365  \\\n",
       "count  140256.000000  140256.000000  140256.000000  140256.000000   \n",
       "mean    37607.987537    1887.427366    2940.031734      65.413150   \n",
       "std     38691.954832    1801.486488    2732.251967      65.007818   \n",
       "min         0.000000       0.000000       0.000000       0.000000   \n",
       "25%         0.000000       0.000000       0.000000      13.037810   \n",
       "50%     24100.000000    1050.632911    2136.363636      31.290743   \n",
       "75%     54800.000000    3312.236287    5363.636364     108.213820   \n",
       "max    192800.000000    7751.054852   12386.363636     335.071708   \n",
       "\n",
       "              MT_366         MT_367         MT_368         MT_369  \\\n",
       "count  140256.000000  140256.000000  140256.000000  140256.000000   \n",
       "mean        9.269709     424.262904      94.704717     625.251734   \n",
       "std        10.016782     274.337122      80.297301     380.656042   \n",
       "min         0.000000       0.000000       0.000000       0.000000   \n",
       "25%         0.000000       0.000000      30.050083      83.944282   \n",
       "50%         7.021650     525.899912      76.794658     758.064516   \n",
       "75%        11.702750     627.743635     151.919866     875.366569   \n",
       "max        60.269163    1138.718174     362.270451    1549.120235   \n",
       "\n",
       "              MT_370  \n",
       "count  140256.000000  \n",
       "mean     8722.355145  \n",
       "std      9195.155777  \n",
       "min         0.000000  \n",
       "25%         0.000000  \n",
       "50%         0.000000  \n",
       "75%     17783.783784  \n",
       "max     30918.918919  \n",
       "\n",
       "[8 rows x 370 columns]"
      ]
     },
     "execution_count": 9,
     "metadata": {},
     "output_type": "execute_result"
    }
   ],
   "source": [
    "data.describe()"
   ]
  },
  {
   "cell_type": "markdown",
   "metadata": {},
   "source": [
    "### Plot the 2 days of 2012 for the first 2 clients"
   ]
  },
  {
   "cell_type": "code",
   "execution_count": 10,
   "metadata": {},
   "outputs": [
    {
     "data": {
      "image/png": "[encoded data removed]",
      "text/plain": [
       "<Figure size 432x288 with 1 Axes>"
      ]
     },
     "metadata": {
      "needs_background": "light"
     },
     "output_type": "display_data"
    }
   ],
   "source": [
    "data_example = data.loc['2012-01-01 00:15:00':'2012-01-03 00:00:00'][['MT_001','MT_002']]\n",
    "data_example.plot()\n",
    "plt.show()"
   ]
  },
  {
   "cell_type": "markdown",
   "metadata": {},
   "source": [
    "#### We quickly note that the main difference between the curves is the level (also seen on the means in df.describe()), so we know we will have to somehow normalize the curves, in order for the clustering technique to capture the behaviour of the consumption throughout the day, rather than the overall level."
   ]
  },
  {
   "cell_type": "markdown",
   "metadata": {},
   "source": [
    "### Data for the analysis\n",
    "\n",
    "We focus on 2013 and 2014 because these are the years with lower number of clients having zero demand"
   ]
  },
  {
   "cell_type": "code",
   "execution_count": 11,
   "metadata": {},
   "outputs": [],
   "source": [
    "data2011 = data.loc['2011-01-01 00:15:00':'2012-01-01 00:00:00']\n",
    "data2012 = data.loc['2012-01-01 00:15:00':'2013-01-01 00:00:00']\n",
    "data2013 = data.loc['2013-01-01 00:15:00':'2014-01-01 00:00:00']\n",
    "data2014 = data.loc['2014-01-01 00:15:00':'2015-01-01 00:00:00']"
   ]
  },
  {
   "cell_type": "code",
   "execution_count": 12,
   "metadata": {},
   "outputs": [
    {
     "name": "stdout",
     "output_type": "stream",
     "text": [
      "365.0\n",
      "366.0\n",
      "365.0\n",
      "365.0\n"
     ]
    }
   ],
   "source": [
    "# Check number of days\n",
    "print(data2011.shape[0]/96)\n",
    "print(data2012.shape[0]/96)\n",
    "print(data2013.shape[0]/96)\n",
    "print(data2014.shape[0]/96)"
   ]
  },
  {
   "cell_type": "code",
   "execution_count": 13,
   "metadata": {},
   "outputs": [
    {
     "name": "stdout",
     "output_type": "stream",
     "text": [
      "210\n",
      "37\n",
      "21\n",
      "1\n"
     ]
    }
   ],
   "source": [
    "# See number of clients with 0 demand per year\n",
    "print(sum(data2011.mean()==0))\n",
    "print(sum(data2012.mean()==0))\n",
    "print(sum(data2013.mean()==0))\n",
    "print(sum(data2014.mean()==0))"
   ]
  },
  {
   "cell_type": "code",
   "execution_count": 14,
   "metadata": {},
   "outputs": [
    {
     "name": "stdout",
     "output_type": "stream",
     "text": [
      "(70080, 349)\n",
      "0\n"
     ]
    }
   ],
   "source": [
    "clients = data2011.columns\n",
    "clients_no_demand = clients[data2013.mean()==0] # clients with 0 demand\n",
    "data_13_14 = data2013.append(data2014) # appending 2013 and 2014\n",
    "data_13_14 = data_13_14.drop(clients_no_demand, axis=1) # drop clients with 0 demand\n",
    "print(data_13_14.shape)\n",
    "print(sum(data_13_14.mean()==0)) # check that there are no clients with 0 demand"
   ]
  },
  {
   "cell_type": "markdown",
   "metadata": {},
   "source": [
    "## Getting average curves per client"
   ]
  },
  {
   "cell_type": "code",
   "execution_count": 18,
   "metadata": {},
   "outputs": [],
   "source": [
    "data = data_13_14.copy() # weekdays weekends, data2011, data2012, data2013, data2014"
   ]
  },
  {
   "cell_type": "code",
   "execution_count": 19,
   "metadata": {},
   "outputs": [],
   "source": [
    "data['hour'] = data.index.map(lambda x: x[11:])"
   ]
  },
  {
   "cell_type": "code",
   "execution_count": 23,
   "metadata": {},
   "outputs": [
    {
     "data": {
      "text/html": [
       "<div>\n",
       "<style scoped>\n",
       "    .dataframe tbody tr th:only-of-type {\n",
       "        vertical-align: middle;\n",
       "    }\n",
       "\n",
       "    .dataframe tbody tr th {\n",
       "        vertical-align: top;\n",
       "    }\n",
       "\n",
       "    .dataframe thead th {\n",
       "        text-align: right;\n",
       "    }\n",
       "</style>\n",
       "<table border=\"1\" class=\"dataframe\">\n",
       "  <thead>\n",
       "    <tr style=\"text-align: right;\">\n",
       "      <th></th>\n",
       "      <th>MT_001</th>\n",
       "      <th>MT_002</th>\n",
       "      <th>MT_003</th>\n",
       "      <th>MT_004</th>\n",
       "      <th>MT_005</th>\n",
       "      <th>MT_006</th>\n",
       "      <th>MT_007</th>\n",
       "      <th>MT_008</th>\n",
       "      <th>MT_009</th>\n",
       "      <th>MT_010</th>\n",
       "      <th>...</th>\n",
       "      <th>MT_362</th>\n",
       "      <th>MT_363</th>\n",
       "      <th>MT_364</th>\n",
       "      <th>MT_365</th>\n",
       "      <th>MT_366</th>\n",
       "      <th>MT_367</th>\n",
       "      <th>MT_368</th>\n",
       "      <th>MT_369</th>\n",
       "      <th>MT_370</th>\n",
       "      <th>hour</th>\n",
       "    </tr>\n",
       "  </thead>\n",
       "  <tbody>\n",
       "    <tr>\n",
       "      <th>2013-01-01 00:15:00</th>\n",
       "      <td>2.538071</td>\n",
       "      <td>22.759602</td>\n",
       "      <td>2.606429</td>\n",
       "      <td>138.211382</td>\n",
       "      <td>63.414634</td>\n",
       "      <td>255.952381</td>\n",
       "      <td>4.522329</td>\n",
       "      <td>239.057239</td>\n",
       "      <td>57.692308</td>\n",
       "      <td>78.494624</td>\n",
       "      <td>...</td>\n",
       "      <td>22300.0</td>\n",
       "      <td>886.075949</td>\n",
       "      <td>1000.000000</td>\n",
       "      <td>16.949153</td>\n",
       "      <td>6.436513</td>\n",
       "      <td>616.330114</td>\n",
       "      <td>76.794658</td>\n",
       "      <td>731.671554</td>\n",
       "      <td>8086.486486</td>\n",
       "      <td>00:15:00</td>\n",
       "    </tr>\n",
       "    <tr>\n",
       "      <th>2013-01-01 00:30:00</th>\n",
       "      <td>1.269036</td>\n",
       "      <td>22.759602</td>\n",
       "      <td>2.606429</td>\n",
       "      <td>138.211382</td>\n",
       "      <td>63.414634</td>\n",
       "      <td>264.880952</td>\n",
       "      <td>5.652911</td>\n",
       "      <td>228.956229</td>\n",
       "      <td>57.692308</td>\n",
       "      <td>76.344086</td>\n",
       "      <td>...</td>\n",
       "      <td>21000.0</td>\n",
       "      <td>864.978903</td>\n",
       "      <td>909.090909</td>\n",
       "      <td>18.252934</td>\n",
       "      <td>3.510825</td>\n",
       "      <td>564.530290</td>\n",
       "      <td>76.794658</td>\n",
       "      <td>727.272727</td>\n",
       "      <td>8086.486486</td>\n",
       "      <td>00:30:00</td>\n",
       "    </tr>\n",
       "    <tr>\n",
       "      <th>2013-01-01 00:45:00</th>\n",
       "      <td>2.538071</td>\n",
       "      <td>22.759602</td>\n",
       "      <td>2.606429</td>\n",
       "      <td>134.146341</td>\n",
       "      <td>60.975610</td>\n",
       "      <td>250.000000</td>\n",
       "      <td>5.652911</td>\n",
       "      <td>239.057239</td>\n",
       "      <td>54.195804</td>\n",
       "      <td>76.344086</td>\n",
       "      <td>...</td>\n",
       "      <td>18200.0</td>\n",
       "      <td>860.759494</td>\n",
       "      <td>840.909091</td>\n",
       "      <td>16.949153</td>\n",
       "      <td>5.851375</td>\n",
       "      <td>590.869183</td>\n",
       "      <td>68.447412</td>\n",
       "      <td>730.205279</td>\n",
       "      <td>7848.648649</td>\n",
       "      <td>00:45:00</td>\n",
       "    </tr>\n",
       "  </tbody>\n",
       "</table>\n",
       "<p>3 rows × 350 columns</p>\n",
       "</div>"
      ],
      "text/plain": [
       "                       MT_001     MT_002    MT_003      MT_004     MT_005  \\\n",
       "2013-01-01 00:15:00  2.538071  22.759602  2.606429  138.211382  63.414634   \n",
       "2013-01-01 00:30:00  1.269036  22.759602  2.606429  138.211382  63.414634   \n",
       "2013-01-01 00:45:00  2.538071  22.759602  2.606429  134.146341  60.975610   \n",
       "\n",
       "                         MT_006    MT_007      MT_008     MT_009     MT_010  \\\n",
       "2013-01-01 00:15:00  255.952381  4.522329  239.057239  57.692308  78.494624   \n",
       "2013-01-01 00:30:00  264.880952  5.652911  228.956229  57.692308  76.344086   \n",
       "2013-01-01 00:45:00  250.000000  5.652911  239.057239  54.195804  76.344086   \n",
       "\n",
       "                       ...      MT_362      MT_363       MT_364     MT_365  \\\n",
       "2013-01-01 00:15:00    ...     22300.0  886.075949  1000.000000  16.949153   \n",
       "2013-01-01 00:30:00    ...     21000.0  864.978903   909.090909  18.252934   \n",
       "2013-01-01 00:45:00    ...     18200.0  860.759494   840.909091  16.949153   \n",
       "\n",
       "                       MT_366      MT_367     MT_368      MT_369       MT_370  \\\n",
       "2013-01-01 00:15:00  6.436513  616.330114  76.794658  731.671554  8086.486486   \n",
       "2013-01-01 00:30:00  3.510825  564.530290  76.794658  727.272727  8086.486486   \n",
       "2013-01-01 00:45:00  5.851375  590.869183  68.447412  730.205279  7848.648649   \n",
       "\n",
       "                         hour  \n",
       "2013-01-01 00:15:00  00:15:00  \n",
       "2013-01-01 00:30:00  00:30:00  \n",
       "2013-01-01 00:45:00  00:45:00  \n",
       "\n",
       "[3 rows x 350 columns]"
      ]
     },
     "execution_count": 23,
     "metadata": {},
     "output_type": "execute_result"
    }
   ],
   "source": [
    "data.head(3)"
   ]
  },
  {
   "cell_type": "markdown",
   "metadata": {},
   "source": [
    "### Getting average curves per client"
   ]
  },
  {
   "cell_type": "code",
   "execution_count": 24,
   "metadata": {},
   "outputs": [
    {
     "data": {
      "text/plain": [
       "(96, 349)"
      ]
     },
     "execution_count": 24,
     "metadata": {},
     "output_type": "execute_result"
    }
   ],
   "source": [
    "datagrouped = data.groupby(\"hour\")\n",
    "average_curves = datagrouped.agg(\"mean\")\n",
    "average_curves.shape "
   ]
  },
  {
   "cell_type": "markdown",
   "metadata": {},
   "source": [
    "#### The dataframe average_curves contains the 349 typical weekday electric demands\n",
    "\n",
    "#### We now divide each curve by its mean, so that all curves have mean 1"
   ]
  },
  {
   "cell_type": "code",
   "execution_count": 30,
   "metadata": {},
   "outputs": [],
   "source": [
    "average_curves_norm = average_curves/(average_curves.mean())"
   ]
  },
  {
   "cell_type": "markdown",
   "metadata": {},
   "source": [
    "#### Plot the first 2 and last 2 clients"
   ]
  },
  {
   "cell_type": "code",
   "execution_count": 32,
   "metadata": {},
   "outputs": [
    {
     "data": {
      "image/png": "[encoded data removed]",
      "text/plain": [
       "<Figure size 432x288 with 1 Axes>"
      ]
     },
     "metadata": {
      "needs_background": "light"
     },
     "output_type": "display_data"
    }
   ],
   "source": [
    "average_curves_norm[['MT_001','MT_002','MT_369','MT_370']].plot()\n",
    "plt.show()"
   ]
  },
  {
   "cell_type": "markdown",
   "metadata": {},
   "source": [
    "## Clustering Analysis on the average normizalied curves"
   ]
  },
  {
   "cell_type": "code",
   "execution_count": 34,
   "metadata": {},
   "outputs": [],
   "source": [
    "X = average_curves_norm.copy()\n",
    "X = np.array(X.T) # put it on the right format"
   ]
  },
  {
   "cell_type": "markdown",
   "metadata": {},
   "source": [
    "## Exercise 1:\n",
    "\n",
    "a. Using the functions described in Module 4, determine what a convenient number of clusters based on _intertia_ and based on _silhouette_. Justify your choice\n",
    "\n",
    "b. Make a plot for each cluster, that includes:\n",
    "    - The number of clients in the cluster (you can put this in the title of the plot)\n",
    "    - All the curves in the cluster\n",
    "    - The curve corresponding to the centroid of the cluster (make this curve thicker to distinguish it from the individual curves)\n",
    "    \n",
    "You can do 2 separate plots for each cluster if you prefer (one for the individual curves, one for the centroid)"
   ]
  },
  {
   "cell_type": "markdown",
   "metadata": {},
   "source": [
    "**Hint:** Note that you cannot draw the clusters on a 2D plane because your data has more than 2 dimensions. So you need to draw the curves instead, just like the `average_curves_norm` above. However `sklearn.cluster.KMeans` algorithm only works on numpy arrays. That is why we have converted (and transposed) the pandas dataframe `average_curves_norm` in the above cell to `X`. After clustering `X`, you can extract indexes of each cluster and then look them up in `average_curves_norm`. Simply transpose `average_curves_norm` once and perform your indexing (or filtering) operation and then transpose the result back and plot. Here we plot the first 10 curves:"
   ]
  },
  {
   "cell_type": "code",
   "execution_count": 50,
   "metadata": {},
   "outputs": [
    {
     "data": {
      "text/plain": [
       "<matplotlib.axes._subplots.AxesSubplot at 0x22890fbce48>"
      ]
     },
     "execution_count": 50,
     "metadata": {},
     "output_type": "execute_result"
    },
    {
     "data": {
      "text/plain": [
       "<Figure size 1080x720 with 0 Axes>"
      ]
     },
     "metadata": {},
     "output_type": "display_data"
    },
    {
     "data": {
      "image/png": "[encoded data removed]",
      "text/plain": [
       "<Figure size 432x288 with 1 Axes>"
      ]
     },
     "metadata": {
      "needs_background": "light"
     },
     "output_type": "display_data"
    }
   ],
   "source": [
    "plt.figure(figsize=(15,10))\n",
    "average_curves_norm.T.iloc[range(10)].T.plot(legend=False)"
   ]
  },
  {
   "cell_type": "code",
   "execution_count": 44,
   "metadata": {},
   "outputs": [],
   "source": [
    "def getInertia(X,kmeans):\n",
    "    ''' This function returns the exact same value as the attribute inertia_ of kmeans'''\n",
    "    inertia = 0\n",
    "    for J in range(len(X)):\n",
    "        inertia = inertia + np.linalg.norm(X[J] - kmeans.cluster_centers_[kmeans.labels_[J]])**2\n",
    "    return inertia"
   ]
  },
  {
   "cell_type": "code",
   "execution_count": 45,
   "metadata": {},
   "outputs": [],
   "source": [
    "def getInertia2(X,kmeans):\n",
    "    ''' This function is analogous to getInertia, but with respect to the 2nd closest center, rather than closest one'''\n",
    "    inertia2 = 0\n",
    "    for J in range(len(X)):\n",
    "        L = min(1,len(kmeans.cluster_centers_)-1) # this is just for the case where there is only 1 cluster at all\n",
    "        dist_to_center = sorted([np.linalg.norm(X[J] - z)**2 for z in kmeans.cluster_centers_])[L]\n",
    "        inertia2 = inertia2 + dist_to_center\n",
    "    return inertia2   "
   ]
  },
  {
   "cell_type": "code",
   "execution_count": 47,
   "metadata": {},
   "outputs": [],
   "source": [
    "inertias_1 = []\n",
    "inertias_2 = []\n",
    "silhouette_avgs = []\n",
    "max_K = 20\n",
    "for k in np.arange(1,max_K+1):\n",
    "    kmeans = KMeans(n_clusters=k, random_state=0).fit(X)    \n",
    "    inertias_1 = inertias_1 + [kmeans.inertia_]\n",
    "    inertias_2 = inertias_2 + [getInertia2(X,kmeans)]\n",
    "    if k>1:\n",
    "        silhouette_avgs = silhouette_avgs + [silhouette_score(X, kmeans.labels_)]"
   ]
  },
  {
   "cell_type": "code",
   "execution_count": 48,
   "metadata": {},
   "outputs": [
    {
     "data": {
      "image/png": "[encoded data removed]",
      "text/plain": [
       "<Figure size 1440x360 with 3 Axes>"
      ]
     },
     "metadata": {
      "needs_background": "light"
     },
     "output_type": "display_data"
    }
   ],
   "source": [
    "plt.figure(figsize=(20,5))\n",
    "\n",
    "plt.subplot(1,3,1)\n",
    "plt.title(\"Inertia_1: sum square distances to closest cluster\")\n",
    "plt.plot(np.arange(1,max_K+1),inertias_1)\n",
    "plt.xticks(np.arange(1,max_K+1))\n",
    "plt.xlabel('number of clusters')\n",
    "plt.grid()\n",
    "    \n",
    "plt.subplot(1,3,2)    \n",
    "plt.title(\"Ratio: Inertia_1 VS. sum square distances to 2nd closest cluster\")\n",
    "plt.plot(np.arange(1,max_K+1),np.array(inertias_1)/np.array(inertias_2))\n",
    "plt.xticks(np.arange(1,max_K+1))\n",
    "plt.xlabel('number of clusters')\n",
    "plt.grid()\n",
    "\n",
    "plt.subplot(1,3,3)  \n",
    "plt.title(\"Average Silhouette\")\n",
    "plt.plot(np.arange(2,max_K+1), silhouette_avgs)\n",
    "plt.xticks(np.arange(2,max_K+1))\n",
    "plt.xlabel('number of clusters')\n",
    "plt.grid()\n",
    "\n",
    "plt.show()"
   ]
  },
  {
   "cell_type": "markdown",
   "metadata": {},
   "source": [
    "## Exercises 2\n",
    "\n",
    "In this exercise you work with the daily curves of 1 single client.\n",
    "\n",
    "First you create a list of arrays, each array containing a normalized curve for a day. The list contains 730 arrays, one for each of the days of 2013 and 2014.\n",
    "\n",
    "a. Determine the optimal value for k-means. \n",
    "\n",
    "b. What are the clusters that you obtained represent?"
   ]
  },
  {
   "cell_type": "code",
   "execution_count": 54,
   "metadata": {},
   "outputs": [
    {
     "data": {
      "text/plain": [
       "(730, 96)"
      ]
     },
     "execution_count": 54,
     "metadata": {},
     "output_type": "execute_result"
    }
   ],
   "source": [
    "client = 'MT_022'\n",
    "oneClient = data_13_14[client]\n",
    "X = [] # a list of arrays, each array being a normalized curve for a day\n",
    "for J in range(2*365):\n",
    "    X.extend([np.array(oneClient[J*96:(J+1)*96])])#/np.mean(oneClient[J*96:(J+1)*96])])\n",
    "\n",
    "np.shape(X)"
   ]
  },
  {
   "cell_type": "markdown",
   "metadata": {},
   "source": [
    "#### The following cell generates a list of all the days in the two years 2013-2014, which is helpful to answer part (b)"
   ]
  },
  {
   "cell_type": "code",
   "execution_count": 59,
   "metadata": {},
   "outputs": [
    {
     "name": "stdout",
     "output_type": "stream",
     "text": [
      "(730,)\n"
     ]
    },
    {
     "data": {
      "text/plain": [
       "['tue-2013-01-01',\n",
       " 'wed-2013-01-02',\n",
       " 'thu-2013-01-03',\n",
       " 'fri-2013-01-04',\n",
       " 'sat-2013-01-05',\n",
       " 'sun-2013-01-06',\n",
       " 'mon-2013-01-07',\n",
       " 'tue-2013-01-08',\n",
       " 'wed-2013-01-09',\n",
       " 'thu-2013-01-10',\n",
       " 'fri-2013-01-11',\n",
       " 'sat-2013-01-12',\n",
       " 'sun-2013-01-13',\n",
       " 'mon-2013-01-14',\n",
       " 'tue-2013-01-15',\n",
       " 'wed-2013-01-16',\n",
       " 'thu-2013-01-17',\n",
       " 'fri-2013-01-18',\n",
       " 'sat-2013-01-19',\n",
       " 'sun-2013-01-20']"
      ]
     },
     "execution_count": 59,
     "metadata": {},
     "output_type": "execute_result"
    }
   ],
   "source": [
    "from datetime import date, timedelta\n",
    "\n",
    "d1 = date(2013, 1, 1)  # start date\n",
    "d2 = date(2014, 12, 31)  # end date\n",
    "delta = d2 - d1         # timedelta\n",
    "daysyear = []\n",
    "D = {0:'mon', 1:'tue', 2:'wed', 3:'thu', 4:'fri', 5:'sat', 6:'sun'}\n",
    "for i in range(delta.days + 1):\n",
    "    daysyear.extend([D[(d1 + timedelta(days=i)).weekday()]+\"-\"+str(d1 + timedelta(days=i))])\n",
    "\n",
    "print(np.shape(daysyear))\n",
    "daysyear[0:20]"
   ]
  },
  {
   "cell_type": "markdown",
   "metadata": {},
   "source": [
    "#### The following cell shows you how to do the following: given a list L, and a list of booleans B (True, False), get the sublist of L that corresponds to the True values in B. For example if L=[1,2,3,4] and B=[False,True,True,False], then the results is [2,3]. This is also helpful for pard (b)"
   ]
  },
  {
   "cell_type": "code",
   "execution_count": 25,
   "metadata": {},
   "outputs": [
    {
     "data": {
      "text/plain": [
       "[2, 3]"
      ]
     },
     "execution_count": 25,
     "metadata": {},
     "output_type": "execute_result"
    }
   ],
   "source": [
    "from itertools import compress\n",
    "L = [1,2,3,4]\n",
    "B = [False, True, True, False]\n",
    "list(compress(L, B))"
   ]
  }
 ],
 "metadata": {
  "kernelspec": {
   "display_name": "Python 3",
   "language": "python",
   "name": "python3"
  },
  "language_info": {
   "codemirror_mode": {
    "name": "ipython",
    "version": 3
   },
   "file_extension": ".py",
   "mimetype": "text/x-python",
   "name": "python",
   "nbconvert_exporter": "python",
   "pygments_lexer": "ipython3",
   "version": "3.7.4"
  },
  "toc": {
   "base_numbering": 1,
   "nav_menu": {},
   "number_sections": true,
   "sideBar": true,
   "skip_h1_title": false,
   "title_cell": "Table of Contents",
   "title_sidebar": "Contents",
   "toc_cell": true,
   "toc_position": {},
   "toc_section_display": true,
   "toc_window_display": false
  }
 },
 "nbformat": 4,
 "nbformat_minor": 2
}
